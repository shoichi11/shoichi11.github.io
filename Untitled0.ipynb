{
  "nbformat": 4,
  "nbformat_minor": 0,
  "metadata": {
    "colab": {
      "name": "Untitled0.ipynb",
      "provenance": [],
      "authorship_tag": "ABX9TyPUbfhhrFQWlMTqtYlrUFVO",
      "include_colab_link": true
    },
    "kernelspec": {
      "name": "python3",
      "display_name": "Python 3"
    },
    "language_info": {
      "name": "python"
    }
  },
  "cells": [
    {
      "cell_type": "markdown",
      "metadata": {
        "id": "view-in-github",
        "colab_type": "text"
      },
      "source": [
        "<a href=\"https://colab.research.google.com/github/shoichi11/shoichi11.github.io/blob/master/Untitled0.ipynb\" target=\"_parent\"><img src=\"https://colab.research.google.com/assets/colab-badge.svg\" alt=\"Open In Colab\"/></a>"
      ]
    },
    {
      "cell_type": "code",
      "metadata": {
        "id": "cBGmv5otDhuJ"
      },
      "source": [
        "import math\n",
        "import random\n",
        "\n",
        "#定数には大文字の変数を使う\n",
        "BOARD_SIZE = 5\n",
        "\n",
        "def kyori(pos1,pos2):\n",
        "    #2点間の距離を求める関数の定義\n",
        "    dif1 = pos1[0] - pos2[0]\n",
        "    dif2 = pos1[1] - pos2[1]\n",
        "\n",
        "    return math.sqrt(dif1**2 + dif2**2)\n",
        "\n",
        "#位置の関数定義\n",
        "def gen_pos(size):\n",
        "    x = random.randrange(0,size)\n",
        "    y = random.randrange(0,size)\n",
        "\n",
        "    return (x, y)\n",
        "\n",
        "#プレイヤーの座標を移動させる関数\n",
        "def mov_pos(dir, pos):\n",
        "    x, y =pos\n",
        "\n",
        "    if dir == \"n\":\n",
        "        y = y - 1\n",
        "    elif dir == \"s\":\n",
        "        y = y + 1\n",
        "    elif dir == \"w\":\n",
        "        x = x - 1\n",
        "    elif dir == \"e\":\n",
        "        x = x + 1\n",
        "\n",
        "    return (x, y)\n",
        "\n",
        "def suikawari():\n",
        "    #位置を決める\n",
        "    #プレイヤーの位置\n",
        "    pl_pos = gen_pos(BOARD_SIZE)\n",
        "\n",
        "    #スイカの位置\n",
        "    sk_pos = gen_pos(BOARD_SIZE)\n",
        "\n",
        "    #正解になるまで繰り返す\n",
        "    while (pl_pos != sk_pos):\n",
        "        print(\"スイカはまだ割れてません・・\")\n",
        "        kyori_calc = kyori(pl_pos, sk_pos)\n",
        "        print(\"スイカまでの距離\",kyori_calc)\n",
        "\n",
        "        #キー入力に応じて移動\n",
        "        i = input(\"北に進む:n 南に進む:s 東に進む:e 西に進む:w \")\n",
        "\n",
        "        #プレイヤー位置を入力に応じて代入\n",
        "        pl_pos = mov_pos(i, pl_pos)\n",
        "  \n",
        " \n",
        "    print(\"スイカは割れました！\")\n"
      ],
      "execution_count": null,
      "outputs": []
    },
    {
      "cell_type": "code",
      "metadata": {
        "colab": {
          "base_uri": "https://localhost:8080/"
        },
        "id": "uPoOX7Z42ZWm",
        "outputId": "f15afbd7-6fe1-4a8f-b00b-483d4c20f7b4"
      },
      "source": [
        "suikawari()"
      ],
      "execution_count": null,
      "outputs": [
        {
          "output_type": "stream",
          "text": [
            "スイカはまだ割れてません・・\n",
            "スイカまでの距離 2.8284271247461903\n",
            "北に進む:n 南に進む:s 東に進む:e 西に進む:w n\n",
            "スイカはまだ割れてません・・\n",
            "スイカまでの距離 2.23606797749979\n",
            "北に進む:n 南に進む:s 東に進む:e 西に進む:w n\n",
            "スイカはまだ割れてません・・\n",
            "スイカまでの距離 2.0\n",
            "北に進む:n 南に進む:s 東に進む:e 西に進む:w w\n",
            "スイカはまだ割れてません・・\n",
            "スイカまでの距離 3.0\n",
            "北に進む:n 南に進む:s 東に進む:e 西に進む:w e\n",
            "スイカはまだ割れてません・・\n",
            "スイカまでの距離 2.0\n",
            "北に進む:n 南に進む:s 東に進む:e 西に進む:w e\n",
            "スイカはまだ割れてません・・\n",
            "スイカまでの距離 1.0\n",
            "北に進む:n 南に進む:s 東に進む:e 西に進む:w e\n",
            "スイカは割れました！\n"
          ],
          "name": "stdout"
        }
      ]
    },
    {
      "cell_type": "code",
      "metadata": {
        "id": "nwAh_O9PhZw1"
      },
      "source": [
        "import random\n",
        "import math\n",
        "\n",
        "BOARD_SIZE = 5  # ボードの初期サイズ\n",
        "\n",
        "def generate_position(size):\n",
        "    # 0以上size未満の範囲で、x座標とy座標を生成する\n",
        "    x = random.randrange(0, size)  # x座標\n",
        "    y = random.randrange(0, size)  # y座標\n",
        "    \n",
        "    return (x, y)\n",
        "\n",
        "def calc_distance(pos1, pos2):\n",
        "    # ２点間の距離を求める\n",
        "    diff_x = pos1[0] - pos2[0]\n",
        "    diff_y = pos1[1] - pos2[1]\n",
        "    \n",
        "    return math.sqrt(diff_x**2 + diff_y**2)\n",
        "\n",
        "def move_position(direction, pos):\n",
        "    # direction にしたがって、posを移動する\n",
        "    \n",
        "    current_x, current_y = pos\n",
        "    \n",
        "    if direction == \"n\":\n",
        "        current_y = current_y - 1\n",
        "    elif direction == \"s\":\n",
        "        current_y = current_y + 1\n",
        "    elif direction == \"w\":\n",
        "        current_x = current_x - 1\n",
        "    elif direction == \"e\":\n",
        "        current_x = current_x + 1\n",
        "\n",
        "    return (current_x, current_y)\n",
        "\n",
        "\n",
        "def suika_wari():\n",
        "    suika_pos = generate_position(BOARD_SIZE)  # スイカの座標\n",
        "    player_pos = generate_position(BOARD_SIZE) # プレイヤーの座標\n",
        "\n",
        "    # スイカとプレイヤーの位置が異なる間、処理を繰り返す\n",
        "    while (suika_pos != player_pos):\n",
        "\n",
        "        # スイカとプレイヤーの距離を表示する\n",
        "        distance = calc_distance(player_pos, suika_pos)\n",
        "        print(\"スイカへの距離:\", distance)\n",
        "\n",
        "        # キー入力に応じて、プレイヤーを移動する\n",
        "        c = input(\"n:北に移動 s:南に移動 e:東に移動 w:西に移動\")\n",
        "        player_pos = move_position(c, player_pos)\n",
        "\n",
        "    print(\"スイカを割りました！\")"
      ],
      "execution_count": null,
      "outputs": []
    },
    {
      "cell_type": "code",
      "metadata": {
        "colab": {
          "base_uri": "https://localhost:8080/"
        },
        "id": "KWqx4P--hai4",
        "outputId": "2c8c16b7-d0a4-4627-99b0-23512201482c"
      },
      "source": [
        "suika_wari()"
      ],
      "execution_count": null,
      "outputs": [
        {
          "output_type": "stream",
          "text": [
            "スイカへの距離: 5.0\n",
            "n:北に移動 s:南に移動 e:東に移動 w:西に移動n\n",
            "スイカへの距離: 5.830951894845301\n",
            "n:北に移動 s:南に移動 e:東に移動 w:西に移動s\n",
            "スイカへの距離: 5.0\n",
            "n:北に移動 s:南に移動 e:東に移動 w:西に移動w\n",
            "スイカへの距離: 4.47213595499958\n",
            "n:北に移動 s:南に移動 e:東に移動 w:西に移動w\n",
            "スイカへの距離: 4.123105625617661\n",
            "n:北に移動 s:南に移動 e:東に移動 w:西に移動w\n",
            "スイカへの距離: 4.0\n",
            "n:北に移動 s:南に移動 e:東に移動 w:西に移動s\n",
            "スイカへの距離: 3.0\n",
            "n:北に移動 s:南に移動 e:東に移動 w:西に移動s\n",
            "スイカへの距離: 2.0\n",
            "n:北に移動 s:南に移動 e:東に移動 w:西に移動s\n",
            "スイカへの距離: 1.0\n",
            "n:北に移動 s:南に移動 e:東に移動 w:西に移動s\n",
            "スイカを割りました！\n"
          ],
          "name": "stdout"
        }
      ]
    },
    {
      "cell_type": "markdown",
      "metadata": {
        "id": "vpba8udAhdCx"
      },
      "source": [
        "# 新しいセクション"
      ]
    },
    {
      "cell_type": "code",
      "metadata": {
        "colab": {
          "base_uri": "https://localhost:8080/",
          "height": 385
        },
        "id": "WNKq6CqLhgMY",
        "outputId": "54eb439d-e9f8-4acc-a9a8-ad0797ee655a"
      },
      "source": [
        "from google.colab import drive\n",
        "drive.mount('/content/drive')"
      ],
      "execution_count": null,
      "outputs": [
        {
          "output_type": "stream",
          "text": [
            "Go to this URL in a browser: https://accounts.google.com/o/oauth2/auth?client_id=947318989803-6bn6qk8qdgf4n4g3pfee6491hc0brc4i.apps.googleusercontent.com&redirect_uri=urn%3aietf%3awg%3aoauth%3a2.0%3aoob&scope=email%20https%3a%2f%2fwww.googleapis.com%2fauth%2fdocs.test%20https%3a%2f%2fwww.googleapis.com%2fauth%2fdrive%20https%3a%2f%2fwww.googleapis.com%2fauth%2fdrive.photos.readonly%20https%3a%2f%2fwww.googleapis.com%2fauth%2fpeopleapi.readonly%20https%3a%2f%2fwww.googleapis.com%2fauth%2fdrive.activity.readonly%20https%3a%2f%2fwww.googleapis.com%2fauth%2fexperimentsandconfigs%20https%3a%2f%2fwww.googleapis.com%2fauth%2fphotos.native&response_type=code\n",
            "\n",
            "Enter your authorization code:\n",
            "\n"
          ],
          "name": "stdout"
        },
        {
          "output_type": "error",
          "ename": "ValueError",
          "evalue": "ignored",
          "traceback": [
            "\u001b[0;31m---------------------------------------------------------------------------\u001b[0m",
            "\u001b[0;31mValueError\u001b[0m                                Traceback (most recent call last)",
            "\u001b[0;32m<ipython-input-112-d5df0069828e>\u001b[0m in \u001b[0;36m<module>\u001b[0;34m()\u001b[0m\n\u001b[1;32m      1\u001b[0m \u001b[0;32mfrom\u001b[0m \u001b[0mgoogle\u001b[0m\u001b[0;34m.\u001b[0m\u001b[0mcolab\u001b[0m \u001b[0;32mimport\u001b[0m \u001b[0mdrive\u001b[0m\u001b[0;34m\u001b[0m\u001b[0;34m\u001b[0m\u001b[0m\n\u001b[0;32m----> 2\u001b[0;31m \u001b[0mdrive\u001b[0m\u001b[0;34m.\u001b[0m\u001b[0mmount\u001b[0m\u001b[0;34m(\u001b[0m\u001b[0;34m'/content/drive'\u001b[0m\u001b[0;34m)\u001b[0m\u001b[0;34m\u001b[0m\u001b[0;34m\u001b[0m\u001b[0m\n\u001b[0m",
            "\u001b[0;32m/usr/local/lib/python3.7/dist-packages/google/colab/drive.py\u001b[0m in \u001b[0;36mmount\u001b[0;34m(mountpoint, force_remount, timeout_ms, use_metadata_server)\u001b[0m\n\u001b[1;32m    265\u001b[0m       \u001b[0mwrote_to_fifo\u001b[0m \u001b[0;34m=\u001b[0m \u001b[0;32mTrue\u001b[0m\u001b[0;34m\u001b[0m\u001b[0;34m\u001b[0m\u001b[0m\n\u001b[1;32m    266\u001b[0m     \u001b[0;32melif\u001b[0m \u001b[0mcase\u001b[0m \u001b[0;34m==\u001b[0m \u001b[0;36m5\u001b[0m\u001b[0;34m:\u001b[0m\u001b[0;34m\u001b[0m\u001b[0;34m\u001b[0m\u001b[0m\n\u001b[0;32m--> 267\u001b[0;31m       \u001b[0;32mraise\u001b[0m \u001b[0mValueError\u001b[0m\u001b[0;34m(\u001b[0m\u001b[0;34m'mount failed: invalid oauth code'\u001b[0m\u001b[0;34m)\u001b[0m\u001b[0;34m\u001b[0m\u001b[0;34m\u001b[0m\u001b[0m\n\u001b[0m\u001b[1;32m    268\u001b[0m     \u001b[0;32melif\u001b[0m \u001b[0mcase\u001b[0m \u001b[0;34m==\u001b[0m \u001b[0;36m6\u001b[0m\u001b[0;34m:\u001b[0m\u001b[0;34m\u001b[0m\u001b[0;34m\u001b[0m\u001b[0m\n\u001b[1;32m    269\u001b[0m       \u001b[0;31m# Terminate the DriveFS binary before killing bash.\u001b[0m\u001b[0;34m\u001b[0m\u001b[0;34m\u001b[0m\u001b[0;34m\u001b[0m\u001b[0m\n",
            "\u001b[0;31mValueError\u001b[0m: mount failed: invalid oauth code"
          ]
        }
      ]
    },
    {
      "cell_type": "code",
      "metadata": {
        "colab": {
          "base_uri": "https://localhost:8080/",
          "height": 540
        },
        "id": "wvOy4hgCLre4",
        "outputId": "25eb6707-a38b-4b44-f898-d84a79f6a36b"
      },
      "source": [
        "import random\n",
        "import math\n",
        "\n",
        "def calc_distance(x1, y1, x2, y2):\n",
        "    # ２点間の距離を求める\n",
        "    diff_x = x1 - x2\n",
        "    diff_y = y1 - y2\n",
        "    \n",
        "    return math.sqrt(diff_x**2 + diff_y**2)\n",
        "\n",
        "suika_x = random.randrange(0, 5)\n",
        "suika_y = random.randrange(0, 5)\n",
        "player_x = random.randrange(0, 5)\n",
        "player_y = random.randrange(0, 5)\n",
        "\n",
        "while (suika_x != player_x) or (suika_y !=player_y):\n",
        "  distance = calc_distance(suika_x, player_x, suika_y, player_y)\n",
        "  print(\"スイカへの距離:\", distance)\n",
        "\n",
        "\n",
        "  c = input(\"n:北に移動 s:南に移動 e:東に移動 w:西に移動\")\n",
        "  if c == \"n\":\n",
        "      player_y = player_y - 1\n",
        "  elif c == \"s\":\n",
        "      player_y = player_y + 1\n",
        "  elif c == \"w\":\n",
        "      player_x = player_x - 1\n",
        "  elif c == \"e\":\n",
        "      player_x = player_x + 1\n",
        "\n",
        "  print(\"スイカを割りました！\")\n"
      ],
      "execution_count": null,
      "outputs": [
        {
          "output_type": "stream",
          "text": [
            "スイカへの距離: 2.23606797749979\n"
          ],
          "name": "stdout"
        },
        {
          "output_type": "error",
          "ename": "KeyboardInterrupt",
          "evalue": "ignored",
          "traceback": [
            "\u001b[0;31m---------------------------------------------------------------------------\u001b[0m",
            "\u001b[0;31mKeyboardInterrupt\u001b[0m                         Traceback (most recent call last)",
            "\u001b[0;32m/usr/local/lib/python3.7/dist-packages/ipykernel/kernelbase.py\u001b[0m in \u001b[0;36m_input_request\u001b[0;34m(self, prompt, ident, parent, password)\u001b[0m\n\u001b[1;32m    728\u001b[0m             \u001b[0;32mtry\u001b[0m\u001b[0;34m:\u001b[0m\u001b[0;34m\u001b[0m\u001b[0;34m\u001b[0m\u001b[0m\n\u001b[0;32m--> 729\u001b[0;31m                 \u001b[0mident\u001b[0m\u001b[0;34m,\u001b[0m \u001b[0mreply\u001b[0m \u001b[0;34m=\u001b[0m \u001b[0mself\u001b[0m\u001b[0;34m.\u001b[0m\u001b[0msession\u001b[0m\u001b[0;34m.\u001b[0m\u001b[0mrecv\u001b[0m\u001b[0;34m(\u001b[0m\u001b[0mself\u001b[0m\u001b[0;34m.\u001b[0m\u001b[0mstdin_socket\u001b[0m\u001b[0;34m,\u001b[0m \u001b[0;36m0\u001b[0m\u001b[0;34m)\u001b[0m\u001b[0;34m\u001b[0m\u001b[0;34m\u001b[0m\u001b[0m\n\u001b[0m\u001b[1;32m    730\u001b[0m             \u001b[0;32mexcept\u001b[0m \u001b[0mException\u001b[0m\u001b[0;34m:\u001b[0m\u001b[0;34m\u001b[0m\u001b[0;34m\u001b[0m\u001b[0m\n",
            "\u001b[0;32m/usr/local/lib/python3.7/dist-packages/jupyter_client/session.py\u001b[0m in \u001b[0;36mrecv\u001b[0;34m(self, socket, mode, content, copy)\u001b[0m\n\u001b[1;32m    802\u001b[0m         \u001b[0;32mtry\u001b[0m\u001b[0;34m:\u001b[0m\u001b[0;34m\u001b[0m\u001b[0;34m\u001b[0m\u001b[0m\n\u001b[0;32m--> 803\u001b[0;31m             \u001b[0mmsg_list\u001b[0m \u001b[0;34m=\u001b[0m \u001b[0msocket\u001b[0m\u001b[0;34m.\u001b[0m\u001b[0mrecv_multipart\u001b[0m\u001b[0;34m(\u001b[0m\u001b[0mmode\u001b[0m\u001b[0;34m,\u001b[0m \u001b[0mcopy\u001b[0m\u001b[0;34m=\u001b[0m\u001b[0mcopy\u001b[0m\u001b[0;34m)\u001b[0m\u001b[0;34m\u001b[0m\u001b[0;34m\u001b[0m\u001b[0m\n\u001b[0m\u001b[1;32m    804\u001b[0m         \u001b[0;32mexcept\u001b[0m \u001b[0mzmq\u001b[0m\u001b[0;34m.\u001b[0m\u001b[0mZMQError\u001b[0m \u001b[0;32mas\u001b[0m \u001b[0me\u001b[0m\u001b[0;34m:\u001b[0m\u001b[0;34m\u001b[0m\u001b[0;34m\u001b[0m\u001b[0m\n",
            "\u001b[0;32m/usr/local/lib/python3.7/dist-packages/zmq/sugar/socket.py\u001b[0m in \u001b[0;36mrecv_multipart\u001b[0;34m(self, flags, copy, track)\u001b[0m\n\u001b[1;32m    618\u001b[0m         \"\"\"\n\u001b[0;32m--> 619\u001b[0;31m         \u001b[0mparts\u001b[0m \u001b[0;34m=\u001b[0m \u001b[0;34m[\u001b[0m\u001b[0mself\u001b[0m\u001b[0;34m.\u001b[0m\u001b[0mrecv\u001b[0m\u001b[0;34m(\u001b[0m\u001b[0mflags\u001b[0m\u001b[0;34m,\u001b[0m \u001b[0mcopy\u001b[0m\u001b[0;34m=\u001b[0m\u001b[0mcopy\u001b[0m\u001b[0;34m,\u001b[0m \u001b[0mtrack\u001b[0m\u001b[0;34m=\u001b[0m\u001b[0mtrack\u001b[0m\u001b[0;34m)\u001b[0m\u001b[0;34m]\u001b[0m\u001b[0;34m\u001b[0m\u001b[0;34m\u001b[0m\u001b[0m\n\u001b[0m\u001b[1;32m    620\u001b[0m         \u001b[0;31m# have first part already, only loop while more to receive\u001b[0m\u001b[0;34m\u001b[0m\u001b[0;34m\u001b[0m\u001b[0;34m\u001b[0m\u001b[0m\n",
            "\u001b[0;32mzmq/backend/cython/socket.pyx\u001b[0m in \u001b[0;36mzmq.backend.cython.socket.Socket.recv\u001b[0;34m()\u001b[0m\n",
            "\u001b[0;32mzmq/backend/cython/socket.pyx\u001b[0m in \u001b[0;36mzmq.backend.cython.socket.Socket.recv\u001b[0;34m()\u001b[0m\n",
            "\u001b[0;32mzmq/backend/cython/socket.pyx\u001b[0m in \u001b[0;36mzmq.backend.cython.socket._recv_copy\u001b[0;34m()\u001b[0m\n",
            "\u001b[0;32m/usr/local/lib/python3.7/dist-packages/zmq/backend/cython/checkrc.pxd\u001b[0m in \u001b[0;36mzmq.backend.cython.checkrc._check_rc\u001b[0;34m()\u001b[0m\n",
            "\u001b[0;31mKeyboardInterrupt\u001b[0m: ",
            "\nDuring handling of the above exception, another exception occurred:\n",
            "\u001b[0;31mKeyboardInterrupt\u001b[0m                         Traceback (most recent call last)",
            "\u001b[0;32m<ipython-input-113-52b068823fc1>\u001b[0m in \u001b[0;36m<module>\u001b[0;34m()\u001b[0m\n\u001b[1;32m     19\u001b[0m \u001b[0;34m\u001b[0m\u001b[0m\n\u001b[1;32m     20\u001b[0m \u001b[0;34m\u001b[0m\u001b[0m\n\u001b[0;32m---> 21\u001b[0;31m   \u001b[0mc\u001b[0m \u001b[0;34m=\u001b[0m \u001b[0minput\u001b[0m\u001b[0;34m(\u001b[0m\u001b[0;34m\"n:北に移動 s:南に移動 e:東に移動 w:西に移動\"\u001b[0m\u001b[0;34m)\u001b[0m\u001b[0;34m\u001b[0m\u001b[0;34m\u001b[0m\u001b[0m\n\u001b[0m\u001b[1;32m     22\u001b[0m   \u001b[0;32mif\u001b[0m \u001b[0mc\u001b[0m \u001b[0;34m==\u001b[0m \u001b[0;34m\"n\"\u001b[0m\u001b[0;34m:\u001b[0m\u001b[0;34m\u001b[0m\u001b[0;34m\u001b[0m\u001b[0m\n\u001b[1;32m     23\u001b[0m       \u001b[0mplayer_y\u001b[0m \u001b[0;34m=\u001b[0m \u001b[0mplayer_y\u001b[0m \u001b[0;34m-\u001b[0m \u001b[0;36m1\u001b[0m\u001b[0;34m\u001b[0m\u001b[0;34m\u001b[0m\u001b[0m\n",
            "\u001b[0;32m/usr/local/lib/python3.7/dist-packages/ipykernel/kernelbase.py\u001b[0m in \u001b[0;36mraw_input\u001b[0;34m(self, prompt)\u001b[0m\n\u001b[1;32m    702\u001b[0m             \u001b[0mself\u001b[0m\u001b[0;34m.\u001b[0m\u001b[0m_parent_ident\u001b[0m\u001b[0;34m,\u001b[0m\u001b[0;34m\u001b[0m\u001b[0;34m\u001b[0m\u001b[0m\n\u001b[1;32m    703\u001b[0m             \u001b[0mself\u001b[0m\u001b[0;34m.\u001b[0m\u001b[0m_parent_header\u001b[0m\u001b[0;34m,\u001b[0m\u001b[0;34m\u001b[0m\u001b[0;34m\u001b[0m\u001b[0m\n\u001b[0;32m--> 704\u001b[0;31m             \u001b[0mpassword\u001b[0m\u001b[0;34m=\u001b[0m\u001b[0;32mFalse\u001b[0m\u001b[0;34m,\u001b[0m\u001b[0;34m\u001b[0m\u001b[0;34m\u001b[0m\u001b[0m\n\u001b[0m\u001b[1;32m    705\u001b[0m         )\n\u001b[1;32m    706\u001b[0m \u001b[0;34m\u001b[0m\u001b[0m\n",
            "\u001b[0;32m/usr/local/lib/python3.7/dist-packages/ipykernel/kernelbase.py\u001b[0m in \u001b[0;36m_input_request\u001b[0;34m(self, prompt, ident, parent, password)\u001b[0m\n\u001b[1;32m    732\u001b[0m             \u001b[0;32mexcept\u001b[0m \u001b[0mKeyboardInterrupt\u001b[0m\u001b[0;34m:\u001b[0m\u001b[0;34m\u001b[0m\u001b[0;34m\u001b[0m\u001b[0m\n\u001b[1;32m    733\u001b[0m                 \u001b[0;31m# re-raise KeyboardInterrupt, to truncate traceback\u001b[0m\u001b[0;34m\u001b[0m\u001b[0;34m\u001b[0m\u001b[0;34m\u001b[0m\u001b[0m\n\u001b[0;32m--> 734\u001b[0;31m                 \u001b[0;32mraise\u001b[0m \u001b[0mKeyboardInterrupt\u001b[0m\u001b[0;34m\u001b[0m\u001b[0;34m\u001b[0m\u001b[0m\n\u001b[0m\u001b[1;32m    735\u001b[0m             \u001b[0;32melse\u001b[0m\u001b[0;34m:\u001b[0m\u001b[0;34m\u001b[0m\u001b[0;34m\u001b[0m\u001b[0m\n\u001b[1;32m    736\u001b[0m                 \u001b[0;32mbreak\u001b[0m\u001b[0;34m\u001b[0m\u001b[0;34m\u001b[0m\u001b[0m\n",
            "\u001b[0;31mKeyboardInterrupt\u001b[0m: "
          ]
        }
      ]
    },
    {
      "cell_type": "code",
      "metadata": {
        "id": "77FkR78xMhfO",
        "colab": {
          "base_uri": "https://localhost:8080/"
        },
        "outputId": "0533c78d-633b-4eb1-ef56-d5945740d7e5"
      },
      "source": [
        "import random\n",
        "import math\n",
        "\n",
        "def calc_distance(x1, y1, x2, y2):\n",
        "    # ２点間の距離を求める\n",
        "    diff_x = x1 - x2\n",
        "    diff_y = y1 - y2\n",
        "    \n",
        "    return math.sqrt(diff_x**2 + diff_y**2)\n",
        "\n",
        "\n",
        "suika_x = random.randrange(0, 5)  # スイカのx座標\n",
        "suika_y = random.randrange(0, 5)  # スイカのy座標\n",
        "\n",
        "player_x = random.randrange(0, 5) # プレイヤーのx座標\n",
        "player_y = random.randrange(0, 5) # プレイヤーのy座標\n",
        "\n",
        "# スイカとプレイヤーの位置が異なる間、処理を繰り返す\n",
        "while (suika_x != player_x) or (suika_y != player_y):\n",
        "\n",
        "    # スイカとプレイヤーの距離を表示する\n",
        "    distance = calc_distance(player_x, player_y, suika_x, suika_y)\n",
        "    print(\"スイカへの距離:\", distance)\n",
        "    \n",
        "    # キー入力に応じて、プレイヤーを移動する\n",
        "    c = input(\"n:北に移動 s:南に移動 e:東に移動 w:西に移動\")\n",
        "    if c == \"n\":\n",
        "        player_y = player_y - 1\n",
        "    elif c == \"s\":\n",
        "        player_y = player_y + 1\n",
        "    elif c == \"w\":\n",
        "        player_x = player_x - 1\n",
        "    elif c == \"e\":\n",
        "        player_x = player_x + 1\n",
        "\n",
        "print(\"スイカを割りました！\")w"
      ],
      "execution_count": null,
      "outputs": [
        {
          "output_type": "stream",
          "text": [
            "スイカへの距離: 4.123105625617661\n",
            "n:北に移動 s:南に移動 e:東に移動 w:西に移動n\n",
            "スイカへの距離: 4.47213595499958\n",
            "n:北に移動 s:南に移動 e:東に移動 w:西に移動s\n",
            "スイカへの距離: 4.123105625617661\n",
            "n:北に移動 s:南に移動 e:東に移動 w:西に移動s\n",
            "スイカへの距離: 4.0\n",
            "n:北に移動 s:南に移動 e:東に移動 w:西に移動s\n",
            "スイカへの距離: 4.123105625617661\n",
            "n:北に移動 s:南に移動 e:東に移動 w:西に移動n\n",
            "スイカへの距離: 4.0\n",
            "n:北に移動 s:南に移動 e:東に移動 w:西に移動w\n",
            "スイカへの距離: 3.0\n",
            "n:北に移動 s:南に移動 e:東に移動 w:西に移動w\n",
            "スイカへの距離: 2.0\n",
            "n:北に移動 s:南に移動 e:東に移動 w:西に移動w\n",
            "スイカへの距離: 1.0\n",
            "n:北に移動 s:南に移動 e:東に移動 w:西に移動\n",
            "スイカへの距離: 1.0\n",
            "n:北に移動 s:南に移動 e:東に移動 w:西に移動w\n",
            "スイカを割りました！\n"
          ],
          "name": "stdout"
        }
      ]
    }
  ]
}